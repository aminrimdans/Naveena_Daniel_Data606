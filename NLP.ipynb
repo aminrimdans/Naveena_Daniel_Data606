{
 "cells": [
  {
   "cell_type": "code",
   "execution_count": 3,
   "metadata": {},
   "outputs": [
    {
     "name": "stdout",
     "output_type": "stream",
     "text": [
      "importing Jupyter notebook from ML_trial.ipynb\n",
      "importing Jupyter notebook from EDA.ipynb\n",
      "KNN: 0.7068980218281037 , RandomForest: 0.7068980218281037 , LogisticRegression 0.7068980218281037\n"
     ]
    },
    {
     "name": "stderr",
     "output_type": "stream",
     "text": [
      "/Applications/anaconda3/lib/python3.8/site-packages/seaborn/_decorators.py:36: FutureWarning: Pass the following variables as keyword args: x, y. From version 0.12, the only valid positional argument will be `data`, and passing other arguments without an explicit keyword will result in an error or misinterpretation.\n",
      "  warnings.warn(\n"
     ]
    },
    {
     "data": {
      "image/png": "[encoded data removed]",
      "text/plain": [
       "<Figure size 432x288 with 1 Axes>"
      ]
     },
     "metadata": {
      "needs_background": "light"
     },
     "output_type": "display_data"
    }
   ],
   "source": [
    "import import_ipynb\n",
    "import numpy as np\n",
    "import pandas as pd\n",
    "import ML_trial#, EDA1\n",
    "from sklearn.feature_extraction.text import CountVectorizer, TfidfVectorizer\n",
    "cvec = CountVectorizer()\n",
    "tfidf = TfidfVectorizer()"
   ]
  },
  {
   "cell_type": "code",
   "execution_count": 4,
   "metadata": {},
   "outputs": [],
   "source": [
    "from nltk.corpus import stopwords"
   ]
  },
  {
   "cell_type": "code",
   "execution_count": 5,
   "metadata": {},
   "outputs": [
    {
     "data": {
      "text/html": [
       "<div>\n",
       "<style scoped>\n",
       "    .dataframe tbody tr th:only-of-type {\n",
       "        vertical-align: middle;\n",
       "    }\n",
       "\n",
       "    .dataframe tbody tr th {\n",
       "        vertical-align: top;\n",
       "    }\n",
       "\n",
       "    .dataframe thead th {\n",
       "        text-align: right;\n",
       "    }\n",
       "</style>\n",
       "<table border=\"1\" class=\"dataframe\">\n",
       "  <thead>\n",
       "    <tr style=\"text-align: right;\">\n",
       "      <th></th>\n",
       "      <th>Recalling Firm Name</th>\n",
       "      <th>Product Type</th>\n",
       "      <th>Recalling Firm Country</th>\n",
       "      <th>Reason for Recall</th>\n",
       "      <th>Product Description</th>\n",
       "      <th>Event Classification</th>\n",
       "    </tr>\n",
       "  </thead>\n",
       "  <tbody>\n",
       "    <tr>\n",
       "      <th>0</th>\n",
       "      <td>ELITE CONFECTIONERY LTD</td>\n",
       "      <td>0.0</td>\n",
       "      <td>0.0</td>\n",
       "      <td>Potential contamination with Salmonella</td>\n",
       "      <td>Elite Hazelnut &amp; Almond Milk Chocolate Bar Net...</td>\n",
       "      <td>1</td>\n",
       "    </tr>\n",
       "    <tr>\n",
       "      <th>1</th>\n",
       "      <td>ELITE CONFECTIONERY LTD</td>\n",
       "      <td>0.0</td>\n",
       "      <td>0.0</td>\n",
       "      <td>Potential contamination with Salmonella</td>\n",
       "      <td>ELITE MILK CHOCOLATE BAR WITH STRAWBERRY CREAM...</td>\n",
       "      <td>1</td>\n",
       "    </tr>\n",
       "    <tr>\n",
       "      <th>2</th>\n",
       "      <td>ELITE CONFECTIONERY LTD</td>\n",
       "      <td>0.0</td>\n",
       "      <td>0.0</td>\n",
       "      <td>Potential contamination with Salmonella</td>\n",
       "      <td>ELITE POPPING ROCKS MILK CHOCOLATE BAR UPC:815...</td>\n",
       "      <td>1</td>\n",
       "    </tr>\n",
       "    <tr>\n",
       "      <th>3</th>\n",
       "      <td>ELITE CONFECTIONERY LTD</td>\n",
       "      <td>0.0</td>\n",
       "      <td>0.0</td>\n",
       "      <td>Potential contamination with Salmonella</td>\n",
       "      <td>ELITE WHITE CHOCOLATE BAR\\tUPC:815871011471 &amp; ...</td>\n",
       "      <td>1</td>\n",
       "    </tr>\n",
       "    <tr>\n",
       "      <th>4</th>\n",
       "      <td>ELITE CONFECTIONERY LTD</td>\n",
       "      <td>0.0</td>\n",
       "      <td>0.0</td>\n",
       "      <td>Potential contamination with Salmonella</td>\n",
       "      <td>ELITE MILK CHOCOLATE WITH BERRY FLAVOR TRUFFLE...</td>\n",
       "      <td>1</td>\n",
       "    </tr>\n",
       "  </tbody>\n",
       "</table>\n",
       "</div>"
      ],
      "text/plain": [
       "       Recalling Firm Name  Product Type  Recalling Firm Country  \\\n",
       "0  ELITE CONFECTIONERY LTD           0.0                     0.0   \n",
       "1  ELITE CONFECTIONERY LTD           0.0                     0.0   \n",
       "2  ELITE CONFECTIONERY LTD           0.0                     0.0   \n",
       "3  ELITE CONFECTIONERY LTD           0.0                     0.0   \n",
       "4  ELITE CONFECTIONERY LTD           0.0                     0.0   \n",
       "\n",
       "                         Reason for Recall  \\\n",
       "0  Potential contamination with Salmonella   \n",
       "1  Potential contamination with Salmonella   \n",
       "2  Potential contamination with Salmonella   \n",
       "3  Potential contamination with Salmonella   \n",
       "4  Potential contamination with Salmonella   \n",
       "\n",
       "                                 Product Description  Event Classification  \n",
       "0  Elite Hazelnut & Almond Milk Chocolate Bar Net...                     1  \n",
       "1  ELITE MILK CHOCOLATE BAR WITH STRAWBERRY CREAM...                     1  \n",
       "2  ELITE POPPING ROCKS MILK CHOCOLATE BAR UPC:815...                     1  \n",
       "3  ELITE WHITE CHOCOLATE BAR\\tUPC:815871011471 & ...                     1  \n",
       "4  ELITE MILK CHOCOLATE WITH BERRY FLAVOR TRUFFLE...                     1  "
      ]
     },
     "execution_count": 5,
     "metadata": {},
     "output_type": "execute_result"
    }
   ],
   "source": [
    "# copying file to avoid changing original\n",
    "df = ML_trial.df.copy()\n",
    "df.head()"
   ]
  },
  {
   "cell_type": "code",
   "execution_count": 6,
   "metadata": {},
   "outputs": [],
   "source": [
    "#Cleaning the text column 'Reason for Recall'\n",
    "stopwords = stopwords.words('english')\n",
    "df['Reason_for_Recall'] = df['Reason for Recall'].apply(lambda x: ' '.join([w for w in x.split() if w not in (stopwords)]))"
   ]
  },
  {
   "cell_type": "code",
   "execution_count": 7,
   "metadata": {},
   "outputs": [
    {
     "name": "stderr",
     "output_type": "stream",
     "text": [
      "<ipython-input-7-3a737ad79d99>:2: FutureWarning: The default value of regex will change from True to False in a future version.\n",
      "  df['Reason_for_Recall'] = df['Reason_for_Recall'].str.replace('\\d+', '')\n"
     ]
    }
   ],
   "source": [
    "#replacing all digits in text column with none.\n",
    "df['Reason_for_Recall'] = df['Reason_for_Recall'].str.replace('\\d+', '')"
   ]
  },
  {
   "cell_type": "code",
   "execution_count": 8,
   "metadata": {},
   "outputs": [
    {
     "data": {
      "text/plain": [
       "Recalling Firm Name        object\n",
       "Product Type              float64\n",
       "Recalling Firm Country    float64\n",
       "Reason for Recall          object\n",
       "Product Description        object\n",
       "Event Classification        int64\n",
       "Reason_for_Recall          string\n",
       "dtype: object"
      ]
     },
     "execution_count": 8,
     "metadata": {},
     "output_type": "execute_result"
    }
   ],
   "source": [
    "# Changing 'Reason for Recall' from object to string type before nlp\n",
    "df['Reason_for_Recall']=df['Reason_for_Recall'].astype('string')\n",
    "df.dtypes"
   ]
  },
  {
   "cell_type": "code",
   "execution_count": 9,
   "metadata": {},
   "outputs": [],
   "source": [
    "X = cvec.fit_transform(df['Reason_for_Recall']) #vectorization\n",
    "np.shape(X) #shape matches df\n",
    "list_of_words = list(cvec.vocabulary_.keys())"
   ]
  },
  {
   "cell_type": "code",
   "execution_count": 10,
   "metadata": {},
   "outputs": [],
   "source": [
    "x = cvec.fit(df['Reason_for_Recall'])\n",
    "#print(x.vocabulary_)"
   ]
  },
  {
   "cell_type": "code",
   "execution_count": 11,
   "metadata": {},
   "outputs": [
    {
     "data": {
      "text/plain": [
       "array([[0, 0, 0, ..., 0, 0, 0],\n",
       "       [0, 0, 0, ..., 0, 0, 0],\n",
       "       [0, 0, 0, ..., 0, 0, 0],\n",
       "       ...,\n",
       "       [0, 0, 0, ..., 0, 0, 0],\n",
       "       [0, 0, 0, ..., 0, 0, 0],\n",
       "       [0, 0, 0, ..., 0, 0, 0]])"
      ]
     },
     "execution_count": 11,
     "metadata": {},
     "output_type": "execute_result"
    }
   ],
   "source": [
    "X.toarray()"
   ]
  },
  {
   "cell_type": "code",
   "execution_count": 12,
   "metadata": {},
   "outputs": [
    {
     "data": {
      "text/html": [
       "<div>\n",
       "<style scoped>\n",
       "    .dataframe tbody tr th:only-of-type {\n",
       "        vertical-align: middle;\n",
       "    }\n",
       "\n",
       "    .dataframe tbody tr th {\n",
       "        vertical-align: top;\n",
       "    }\n",
       "\n",
       "    .dataframe thead th {\n",
       "        text-align: right;\n",
       "    }\n",
       "</style>\n",
       "<table border=\"1\" class=\"dataframe\">\n",
       "  <thead>\n",
       "    <tr style=\"text-align: right;\">\n",
       "      <th></th>\n",
       "      <th>potential</th>\n",
       "      <th>contamination</th>\n",
       "      <th>salmonella</th>\n",
       "      <th>the</th>\n",
       "      <th>pump</th>\n",
       "      <th>may</th>\n",
       "      <th>welding</th>\n",
       "      <th>defect</th>\n",
       "      <th>lead</th>\n",
       "      <th>malfunction</th>\n",
       "      <th>...</th>\n",
       "      <th>pgy</th>\n",
       "      <th>happened</th>\n",
       "      <th>supplie</th>\n",
       "      <th>vy</th>\n",
       "      <th>mozaik</th>\n",
       "      <th>murocel</th>\n",
       "      <th>aet</th>\n",
       "      <th>carbostyril</th>\n",
       "      <th>diazepam</th>\n",
       "      <th>tfrs</th>\n",
       "    </tr>\n",
       "  </thead>\n",
       "  <tbody>\n",
       "    <tr>\n",
       "      <th>0</th>\n",
       "      <td>0</td>\n",
       "      <td>0</td>\n",
       "      <td>0</td>\n",
       "      <td>0</td>\n",
       "      <td>0</td>\n",
       "      <td>0</td>\n",
       "      <td>0</td>\n",
       "      <td>0</td>\n",
       "      <td>0</td>\n",
       "      <td>0</td>\n",
       "      <td>...</td>\n",
       "      <td>0</td>\n",
       "      <td>0</td>\n",
       "      <td>0</td>\n",
       "      <td>0</td>\n",
       "      <td>0</td>\n",
       "      <td>0</td>\n",
       "      <td>0</td>\n",
       "      <td>0</td>\n",
       "      <td>0</td>\n",
       "      <td>0</td>\n",
       "    </tr>\n",
       "    <tr>\n",
       "      <th>1</th>\n",
       "      <td>0</td>\n",
       "      <td>0</td>\n",
       "      <td>0</td>\n",
       "      <td>0</td>\n",
       "      <td>0</td>\n",
       "      <td>0</td>\n",
       "      <td>0</td>\n",
       "      <td>0</td>\n",
       "      <td>0</td>\n",
       "      <td>0</td>\n",
       "      <td>...</td>\n",
       "      <td>0</td>\n",
       "      <td>0</td>\n",
       "      <td>0</td>\n",
       "      <td>0</td>\n",
       "      <td>0</td>\n",
       "      <td>0</td>\n",
       "      <td>0</td>\n",
       "      <td>0</td>\n",
       "      <td>0</td>\n",
       "      <td>0</td>\n",
       "    </tr>\n",
       "    <tr>\n",
       "      <th>2</th>\n",
       "      <td>0</td>\n",
       "      <td>0</td>\n",
       "      <td>0</td>\n",
       "      <td>0</td>\n",
       "      <td>0</td>\n",
       "      <td>0</td>\n",
       "      <td>0</td>\n",
       "      <td>0</td>\n",
       "      <td>0</td>\n",
       "      <td>0</td>\n",
       "      <td>...</td>\n",
       "      <td>0</td>\n",
       "      <td>0</td>\n",
       "      <td>0</td>\n",
       "      <td>0</td>\n",
       "      <td>0</td>\n",
       "      <td>0</td>\n",
       "      <td>0</td>\n",
       "      <td>0</td>\n",
       "      <td>0</td>\n",
       "      <td>0</td>\n",
       "    </tr>\n",
       "    <tr>\n",
       "      <th>3</th>\n",
       "      <td>0</td>\n",
       "      <td>0</td>\n",
       "      <td>0</td>\n",
       "      <td>0</td>\n",
       "      <td>0</td>\n",
       "      <td>0</td>\n",
       "      <td>0</td>\n",
       "      <td>0</td>\n",
       "      <td>0</td>\n",
       "      <td>0</td>\n",
       "      <td>...</td>\n",
       "      <td>0</td>\n",
       "      <td>0</td>\n",
       "      <td>0</td>\n",
       "      <td>0</td>\n",
       "      <td>0</td>\n",
       "      <td>0</td>\n",
       "      <td>0</td>\n",
       "      <td>0</td>\n",
       "      <td>0</td>\n",
       "      <td>0</td>\n",
       "    </tr>\n",
       "    <tr>\n",
       "      <th>4</th>\n",
       "      <td>0</td>\n",
       "      <td>0</td>\n",
       "      <td>0</td>\n",
       "      <td>0</td>\n",
       "      <td>0</td>\n",
       "      <td>0</td>\n",
       "      <td>0</td>\n",
       "      <td>0</td>\n",
       "      <td>0</td>\n",
       "      <td>0</td>\n",
       "      <td>...</td>\n",
       "      <td>0</td>\n",
       "      <td>0</td>\n",
       "      <td>0</td>\n",
       "      <td>0</td>\n",
       "      <td>0</td>\n",
       "      <td>0</td>\n",
       "      <td>0</td>\n",
       "      <td>0</td>\n",
       "      <td>0</td>\n",
       "      <td>0</td>\n",
       "    </tr>\n",
       "  </tbody>\n",
       "</table>\n",
       "<p>5 rows × 22730 columns</p>\n",
       "</div>"
      ],
      "text/plain": [
       "   potential  contamination  salmonella  the  pump  may  welding  defect  \\\n",
       "0          0              0           0    0     0    0        0       0   \n",
       "1          0              0           0    0     0    0        0       0   \n",
       "2          0              0           0    0     0    0        0       0   \n",
       "3          0              0           0    0     0    0        0       0   \n",
       "4          0              0           0    0     0    0        0       0   \n",
       "\n",
       "   lead  malfunction  ...  pgy  happened  supplie  vy  mozaik  murocel  aet  \\\n",
       "0     0            0  ...    0         0        0   0       0        0    0   \n",
       "1     0            0  ...    0         0        0   0       0        0    0   \n",
       "2     0            0  ...    0         0        0   0       0        0    0   \n",
       "3     0            0  ...    0         0        0   0       0        0    0   \n",
       "4     0            0  ...    0         0        0   0       0        0    0   \n",
       "\n",
       "   carbostyril  diazepam  tfrs  \n",
       "0            0         0     0  \n",
       "1            0         0     0  \n",
       "2            0         0     0  \n",
       "3            0         0     0  \n",
       "4            0         0     0  \n",
       "\n",
       "[5 rows x 22730 columns]"
      ]
     },
     "execution_count": 12,
     "metadata": {},
     "output_type": "execute_result"
    }
   ],
   "source": [
    "vect_df = pd.DataFrame(X.toarray(),columns=list_of_words)\n",
    "vect_df.head()"
   ]
  },
  {
   "cell_type": "markdown",
   "metadata": {},
   "source": [
    "Computing frequency of words and max frequency"
   ]
  },
  {
   "cell_type": "code",
   "execution_count": 13,
   "metadata": {},
   "outputs": [
    {
     "data": {
      "text/plain": [
       "20164"
      ]
     },
     "execution_count": 13,
     "metadata": {},
     "output_type": "execute_result"
    }
   ],
   "source": [
    "counts = np.asarray(X.sum(axis=0))\n",
    "np.max(counts)"
   ]
  },
  {
   "cell_type": "code",
   "execution_count": 14,
   "metadata": {},
   "outputs": [
    {
     "data": {
      "text/html": [
       "<div>\n",
       "<style scoped>\n",
       "    .dataframe tbody tr th:only-of-type {\n",
       "        vertical-align: middle;\n",
       "    }\n",
       "\n",
       "    .dataframe tbody tr th {\n",
       "        vertical-align: top;\n",
       "    }\n",
       "\n",
       "    .dataframe thead th {\n",
       "        text-align: right;\n",
       "    }\n",
       "</style>\n",
       "<table border=\"1\" class=\"dataframe\">\n",
       "  <thead>\n",
       "    <tr style=\"text-align: right;\">\n",
       "      <th></th>\n",
       "      <th>frequency</th>\n",
       "    </tr>\n",
       "  </thead>\n",
       "  <tbody>\n",
       "    <tr>\n",
       "      <th>hybrigel</th>\n",
       "      <td>20164</td>\n",
       "    </tr>\n",
       "    <tr>\n",
       "      <th>latching</th>\n",
       "      <td>19548</td>\n",
       "    </tr>\n",
       "    <tr>\n",
       "      <th>norian</th>\n",
       "      <td>18750</td>\n",
       "    </tr>\n",
       "    <tr>\n",
       "      <th>zeros</th>\n",
       "      <td>14618</td>\n",
       "    </tr>\n",
       "    <tr>\n",
       "      <th>cisatracurium</th>\n",
       "      <td>12279</td>\n",
       "    </tr>\n",
       "    <tr>\n",
       "      <th>...</th>\n",
       "      <td>...</td>\n",
       "    </tr>\n",
       "    <tr>\n",
       "      <th>qfix</th>\n",
       "      <td>1</td>\n",
       "    </tr>\n",
       "    <tr>\n",
       "      <th>mevion</th>\n",
       "      <td>1</td>\n",
       "    </tr>\n",
       "    <tr>\n",
       "      <th>tilted</th>\n",
       "      <td>1</td>\n",
       "    </tr>\n",
       "    <tr>\n",
       "      <th>faith</th>\n",
       "      <td>1</td>\n",
       "    </tr>\n",
       "    <tr>\n",
       "      <th>equate</th>\n",
       "      <td>1</td>\n",
       "    </tr>\n",
       "  </tbody>\n",
       "</table>\n",
       "<p>22730 rows × 1 columns</p>\n",
       "</div>"
      ],
      "text/plain": [
       "               frequency\n",
       "hybrigel           20164\n",
       "latching           19548\n",
       "norian             18750\n",
       "zeros              14618\n",
       "cisatracurium      12279\n",
       "...                  ...\n",
       "qfix                   1\n",
       "mevion                 1\n",
       "tilted                 1\n",
       "faith                  1\n",
       "equate                 1\n",
       "\n",
       "[22730 rows x 1 columns]"
      ]
     },
     "execution_count": 14,
     "metadata": {},
     "output_type": "execute_result"
    }
   ],
   "source": [
    "freq_df = pd.DataFrame(counts, columns=list_of_words).T.sort_values(by=0,ascending=False)\n",
    "freq_df.columns=['frequency']\n",
    "freq_df"
   ]
  },
  {
   "cell_type": "markdown",
   "metadata": {},
   "source": [
    "The most important tokenized word in Reason for Recall is \"salmonella\" "
   ]
  },
  {
   "cell_type": "code",
   "execution_count": 16,
   "metadata": {},
   "outputs": [
    {
     "data": {
      "text/html": [
       "<div>\n",
       "<style scoped>\n",
       "    .dataframe tbody tr th:only-of-type {\n",
       "        vertical-align: middle;\n",
       "    }\n",
       "\n",
       "    .dataframe tbody tr th {\n",
       "        vertical-align: top;\n",
       "    }\n",
       "\n",
       "    .dataframe thead th {\n",
       "        text-align: right;\n",
       "    }\n",
       "</style>\n",
       "<table border=\"1\" class=\"dataframe\">\n",
       "  <thead>\n",
       "    <tr style=\"text-align: right;\">\n",
       "      <th></th>\n",
       "      <th>TF-IDF</th>\n",
       "    </tr>\n",
       "  </thead>\n",
       "  <tbody>\n",
       "    <tr>\n",
       "      <th>salmonella</th>\n",
       "      <td>0.664435</td>\n",
       "    </tr>\n",
       "    <tr>\n",
       "      <th>contamination</th>\n",
       "      <td>0.580164</td>\n",
       "    </tr>\n",
       "    <tr>\n",
       "      <th>potential</th>\n",
       "      <td>0.471101</td>\n",
       "    </tr>\n",
       "    <tr>\n",
       "      <th>_b</th>\n",
       "      <td>0.000000</td>\n",
       "    </tr>\n",
       "    <tr>\n",
       "      <th>piccolo</th>\n",
       "      <td>0.000000</td>\n",
       "    </tr>\n",
       "    <tr>\n",
       "      <th>...</th>\n",
       "      <td>...</td>\n",
       "    </tr>\n",
       "    <tr>\n",
       "      <th>femtouch</th>\n",
       "      <td>0.000000</td>\n",
       "    </tr>\n",
       "    <tr>\n",
       "      <th>femoral</th>\n",
       "      <td>0.000000</td>\n",
       "    </tr>\n",
       "    <tr>\n",
       "      <th>females</th>\n",
       "      <td>0.000000</td>\n",
       "    </tr>\n",
       "    <tr>\n",
       "      <th>female_xd_</th>\n",
       "      <td>0.000000</td>\n",
       "    </tr>\n",
       "    <tr>\n",
       "      <th>zyto</th>\n",
       "      <td>0.000000</td>\n",
       "    </tr>\n",
       "  </tbody>\n",
       "</table>\n",
       "<p>22730 rows × 1 columns</p>\n",
       "</div>"
      ],
      "text/plain": [
       "                 TF-IDF\n",
       "salmonella     0.664435\n",
       "contamination  0.580164\n",
       "potential      0.471101\n",
       "_b             0.000000\n",
       "piccolo        0.000000\n",
       "...                 ...\n",
       "femtouch       0.000000\n",
       "femoral        0.000000\n",
       "females        0.000000\n",
       "female_xd_     0.000000\n",
       "zyto           0.000000\n",
       "\n",
       "[22730 rows x 1 columns]"
      ]
     },
     "execution_count": 16,
     "metadata": {},
     "output_type": "execute_result"
    }
   ],
   "source": [
    "xx = tfidf.fit_transform(df['Reason_for_Recall'])\n",
    "tf_idf = pd.DataFrame(xx[0].T.todense(), index=tfidf.get_feature_names(), columns=[\"TF-IDF\"])\n",
    "tf_idf = tf_idf.sort_values('TF-IDF', ascending=False)\n",
    "tf_idf"
   ]
  },
  {
   "cell_type": "code",
   "execution_count": 21,
   "metadata": {},
   "outputs": [],
   "source": [
    "#exporting needed tables for visualization in separate software\n",
    "\n",
    "# import os\n",
    "# os.makedirs('Exported_tables', exist_ok=True)\n",
    "# freq_df.to_csv('Exported_tables/word_frequency_df.csv')\n",
    "# tf_idf.to_csv('Exported_tables/tf_idf.csv')\n",
    "#vect_df.to_csv('Exported_tables/X_data(vectorized_attributes).csv')"
   ]
  },
  {
   "cell_type": "code",
   "execution_count": null,
   "metadata": {},
   "outputs": [],
   "source": []
  }
 ],
 "metadata": {
  "kernelspec": {
   "display_name": "Python 3.8.8 ('606Capstone': venv)",
   "language": "python",
   "name": "python3"
  },
  "language_info": {
   "codemirror_mode": {
    "name": "ipython",
    "version": 3
   },
   "file_extension": ".py",
   "mimetype": "text/x-python",
   "name": "python",
   "nbconvert_exporter": "python",
   "pygments_lexer": "ipython3",
   "version": "3.8.8"
  },
  "vscode": {
   "interpreter": {
    "hash": "4082623eafcf90b2c7f55d6da4ebd0a1a4f0e7f6f792349d05cde6f0b7a331c1"
   }
  }
 },
 "nbformat": 4,
 "nbformat_minor": 2
}
